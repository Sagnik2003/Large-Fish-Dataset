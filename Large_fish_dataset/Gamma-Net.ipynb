{
 "cells": [
  {
   "cell_type": "code",
   "execution_count": 21,
   "metadata": {
    "slideshow": {
     "slide_type": "slide"
    },
    "tags": []
   },
   "outputs": [],
   "source": [
    "import numpy as np\n",
    "import torch\n",
    "import torch.nn as nn\n",
    "import torch.nn.functional as F\n",
    "from torch.utils.data import Dataset\n",
    "from torchvision import transforms\n",
    "from torchvision.io import read_image\n",
    "from torchvision.datasets import ImageFolder\n",
    "from tqdm import tqdm,tqdm_notebook\n",
    "import mlflow\n",
    "import os\n",
    "from PIL import Image\n",
    "import matplotlib.pyplot as plt\n",
    "from pathlib import Path\n",
    "from torchvision.utils import make_grid\n",
    "import torch.optim as optim\n",
    "from torch.utils.data import DataLoader\n",
    "from torch.utils.tensorboard import SummaryWriter"
   ]
  },
  {
   "cell_type": "code",
   "execution_count": 22,
   "metadata": {
    "slideshow": {
     "slide_type": "slide"
    },
    "tags": []
   },
   "outputs": [],
   "source": [
    "writer = SummaryWriter()"
   ]
  },
  {
   "cell_type": "markdown",
   "metadata": {},
   "source": []
  },
  {
   "cell_type": "code",
   "execution_count": 23,
   "metadata": {
    "collapsed": false,
    "inputHidden": false,
    "jupyter": {
     "outputs_hidden": false
    },
    "outputHidden": false
   },
   "outputs": [],
   "source": [
    "device = 'cuda' if torch.cuda.is_available() else 'cpu'"
   ]
  },
  {
   "cell_type": "code",
   "execution_count": 24,
   "metadata": {},
   "outputs": [],
   "source": [
    "class PairedImageDataset(Dataset):\n",
    "    def __init__(self, base_folder1, base_folder2, transform=None, grayscale_transform=None):\n",
    "        self.base_folder1 = base_folder1\n",
    "        self.base_folder2 = base_folder2\n",
    "        self.transform = transform\n",
    "        self.grayscale_transform = grayscale_transform\n",
    "\n",
    "        self.image_pairs = []\n",
    "        self.class_to_idx = {}\n",
    "        \n",
    "        # Assuming folder structure and file names are identical across both folders\n",
    "        for sub_folder in sorted(os.listdir(base_folder1)):\n",
    "            class_index = len(self.class_to_idx)\n",
    "            self.class_to_idx[sub_folder] = class_index\n",
    "            \n",
    "            sub_folder_path1 = os.path.join(base_folder1, sub_folder)\n",
    "            sub_folder_path2 = os.path.join(base_folder2, sub_folder+\" GT\")\n",
    "            \n",
    "            if os.name == 'nt':\n",
    "                sub_folder_path1 = sub_folder_path1.replace('\\\\','/')\n",
    "                sub_folder_path2 = sub_folder_path2.replace('\\\\','/')\n",
    "            \n",
    "            \n",
    "            if not os.path.isdir(sub_folder_path1) or not os.path.isdir(sub_folder_path2):\n",
    "                print(f'path is not dir: [{sub_folder_path1}] and [{sub_folder_path2}]')\n",
    "                print(os.path.exists(sub_folder_path1))\n",
    "                print(os.path.exists(sub_folder_path2))\n",
    "                continue\n",
    "            \n",
    "            for fname in sorted(os.listdir(sub_folder_path1)):\n",
    "                if not fname.endswith(('.png', '.jpg', '.jpeg')):\n",
    "                    continue\n",
    "                path1 = os.path.join(sub_folder_path1, fname)\n",
    "                path2 = os.path.join(sub_folder_path2, fname)\n",
    "                \n",
    "                if os.name == 'nt':\n",
    "                    path1 = path1.replace('\\\\','/')\n",
    "                    path2 = path2.replace('\\\\','/')\n",
    "   \n",
    "                \n",
    "                self.image_pairs.append((path1, path2, class_index))\n",
    "\n",
    "    def __len__(self):\n",
    "        return len(self.image_pairs)\n",
    "\n",
    "    def __getitem__(self, idx):\n",
    "        path1, path2, class_index = self.image_pairs[idx]\n",
    "        \n",
    "        # Load images\n",
    "        image1 = Image.open(path1).convert('RGB')\n",
    "        image2 = Image.open(path2).convert('RGB')\n",
    "        \n",
    "        # Apply transformations\n",
    "        if self.transform is not None:\n",
    "            image1 = self.transform(image1).to(device)\n",
    "        if self.grayscale_transform is not None:\n",
    "            image2 = self.grayscale_transform(image2)\n",
    "            # Applying additional grayscale transform\n",
    "            image2 = transforms.Grayscale()(image2).to(device)\n",
    "        \n",
    "        class_index = torch.tensor(class_index, dtype=torch.long).to(device)\n",
    "        return image1, image2, class_index"
   ]
  },
  {
   "cell_type": "code",
   "execution_count": 25,
   "metadata": {
    "collapsed": false,
    "inputHidden": false,
    "jupyter": {
     "outputs_hidden": false
    },
    "outputHidden": false
   },
   "outputs": [],
   "source": [
    "image_directory = 'Images'\n",
    "mask_directory = 'Masks'\n",
    "\n",
    "img_transforms = transforms.Compose([\n",
    "    transforms.Resize((128,128)),\n",
    "    transforms.ToTensor(),\n",
    "])\n",
    "\n",
    "img_dataset = PairedImageDataset(image_directory, mask_directory, transform=img_transforms, grayscale_transform=img_transforms)"
   ]
  },
  {
   "cell_type": "code",
   "execution_count": 26,
   "metadata": {},
   "outputs": [],
   "source": [
    "def visualize_img(dataset, index=None, cmap=None):\n",
    "    \"\"\"\n",
    "    Visualizes an image and its corresponding mask from the dataset.\n",
    "\n",
    "    Parameters:\n",
    "    - dataset: The paired dataset instance.\n",
    "    - index: Optional index to specify a particular dataset item to visualize.\n",
    "             If None, a random item is chosen.\n",
    "    - cmap: Colormap for displaying the images.\n",
    "    \"\"\"\n",
    "    # Select a random index if none is provided\n",
    "    if index is None:\n",
    "        index = np.random.randint(0, len(dataset))\n",
    "    \n",
    "    # Fetch the image and mask using the dataset's __getitem__ method\n",
    "    image, mask, _ = dataset[index]\n",
    "    \n",
    "    # Convert images to numpy arrays if they're PyTorch tensors\n",
    "    if torch.is_tensor(image):\n",
    "        image = image.permute(1, 2, 0).cpu().numpy()\n",
    "    if torch.is_tensor(mask):\n",
    "        mask = mask.squeeze().cpu().numpy()  # Assuming mask might have a channel dimension to be squeezed\n",
    "    \n",
    "    # Visualization\n",
    "    fig, axes = plt.subplots(1, 2, figsize=(16, 8))\n",
    "    axes[0].imshow(image, cmap=cmap)\n",
    "    axes[1].imshow(mask, cmap='gray')  # Masks are typically visualized in grayscale\n",
    "    axes[0].set_title(\"Image\")\n",
    "    axes[1].set_title(\"Mask\")\n",
    "    axes[0].axis('off')\n",
    "    axes[1].axis('off')\n",
    "    plt.show()"
   ]
  },
  {
   "cell_type": "code",
   "execution_count": 27,
   "metadata": {},
   "outputs": [
    {
     "data": {
      "image/png": "[encoded data removed]",
      "text/plain": [
       "<Figure size 1600x800 with 2 Axes>"
      ]
     },
     "metadata": {},
     "output_type": "display_data"
    }
   ],
   "source": [
    "visualize_img(img_dataset,cmap=\"gray\")"
   ]
  },
  {
   "cell_type": "code",
   "execution_count": 28,
   "metadata": {},
   "outputs": [],
   "source": [
    "def calculate_same_padding(input_size, kernel_size, stride):\n",
    "    \"\"\"\n",
    "    Calculate the padding needed for 'same' padding.\n",
    "\n",
    "    Parameters:\n",
    "    input_size (tuple): The height and width of the input (H, W).\n",
    "    kernel_size (int or tuple): The size of the kernel (KH, KW).\n",
    "    stride (int or tuple): The stride of the convolution (SH, SW).\n",
    "\n",
    "    Returns:\n",
    "    tuple: The padding (vertical, horizontal) needed for 'same' padding.\n",
    "    \"\"\"\n",
    "    if isinstance(kernel_size, int):\n",
    "        kernel_size = (kernel_size, kernel_size)\n",
    "    if isinstance(stride, int):\n",
    "        stride = (stride, stride)\n",
    "    \n",
    "    pad_along_height = max((input_size[0] - 1) * stride[0] + kernel_size[0] - input_size[0], 0)\n",
    "    pad_along_width = max((input_size[1] - 1) * stride[1] + kernel_size[1] - input_size[1], 0)\n",
    "\n",
    "    # Divide by 2 and round up to get equal padding on both sides\n",
    "    pad_top = pad_along_height // 2\n",
    "    pad_bottom = pad_along_height - pad_top\n",
    "    pad_left = pad_along_width // 2\n",
    "    pad_right = pad_along_width - pad_left\n",
    "\n",
    "    return (pad_left, pad_right, pad_top, pad_bottom)"
   ]
  },
  {
   "cell_type": "code",
   "execution_count": 29,
   "metadata": {
    "collapsed": false,
    "inputHidden": false,
    "jupyter": {
     "outputs_hidden": false
    },
    "outputHidden": false
   },
   "outputs": [],
   "source": [
    "# class ConvBlock(nn.Module):\n",
    "#     def __init__(self, in_channels, out_channels):\n",
    "#         super(ConvBlock, self).__init__()\n",
    "#         self.conv = nn.Conv2d(in_channels, out_channels, kernel_size=3, padding=1)\n",
    "#         self.bn = nn.BatchNorm2d(out_channels)\n",
    "#         self.relu = nn.ReLU(inplace=True)\n",
    "\n",
    "#     def forward(self, x):\n",
    "#         x = self.conv(x)\n",
    "#         x = self.bn(x)\n",
    "#         return self.relu(x)"
   ]
  },
  {
   "cell_type": "code",
   "execution_count": 30,
   "metadata": {},
   "outputs": [],
   "source": [
    "\n",
    "class ConvBlock(nn.Module):\n",
    "    def __init__(self, in_channels, out_channels):\n",
    "        super(ConvBlock, self).__init__()\n",
    "        self.conv1 = nn.Conv2d(in_channels, out_channels, kernel_size=3, padding=1)\n",
    "        self.bn1 = nn.BatchNorm2d(out_channels)\n",
    "        self.relu1 = nn.ReLU(inplace=True)\n",
    "        self.conv2 = nn.Conv2d(out_channels, out_channels, kernel_size=3, padding=1)\n",
    "        self.bn2 = nn.BatchNorm2d(out_channels)\n",
    "        self.relu2 = nn.ReLU(inplace=True)\n",
    "\n",
    "    def forward(self, x):\n",
    "        x = self.conv1(x)\n",
    "        x = self.bn1(x)\n",
    "        x = self.relu1(x)\n",
    "        x = self.conv2(x)  # New convolutional layer\n",
    "        x = self.bn2(x)    # Batch normalization\n",
    "        return self.relu2(x)\n"
   ]
  },
  {
   "cell_type": "code",
   "execution_count": 31,
   "metadata": {
    "collapsed": false,
    "inputHidden": false,
    "jupyter": {
     "outputs_hidden": false
    },
    "outputHidden": false
   },
   "outputs": [],
   "source": [
    "class EncoderBlock(nn.Module):\n",
    "    def __init__(self, in_channels, out_channels):\n",
    "        super(EncoderBlock, self).__init__()\n",
    "        self.conv_block = ConvBlock(in_channels, out_channels)\n",
    "        self.pool = nn.MaxPool2d(kernel_size=2, stride=2)\n",
    "\n",
    "    def forward(self, x):\n",
    "        conv_out = self.conv_block(x)\n",
    "        pooled_out = self.pool(conv_out)\n",
    "        return conv_out, pooled_out\n",
    "\n",
    "class EncoderArm(nn.Module):\n",
    "    def __init__(self, input_channels):\n",
    "        super(EncoderArm, self).__init__()\n",
    "        self.e0 = EncoderBlock(input_channels, 64)\n",
    "        self.e1 = EncoderBlock(64, 128)\n",
    "        self.e2 = EncoderBlock(128, 256)\n",
    "        self.e3 = EncoderBlock(256, 512)\n",
    "        self.e4 = EncoderBlock(512, 1024)\n",
    "\n",
    "    def forward(self, x):\n",
    "        s = []\n",
    "        \n",
    "        skip_out, pool_out = self.e0(x)\n",
    "        s.append(skip_out)\n",
    "\n",
    "        for encoder in [self.e1, self.e2, self.e3, self.e4]:\n",
    "            skip_out, pool_out = encoder(pool_out)\n",
    "            s.append(skip_out)\n",
    "\n",
    "        return s, pool_out"
   ]
  },
  {
   "cell_type": "code",
   "execution_count": 32,
   "metadata": {},
   "outputs": [],
   "source": [
    "class DecoderBlock(nn.Module):\n",
    "    def __init__(self, in_channels, skip_channels, out_channels):\n",
    "        super(DecoderBlock, self).__init__()\n",
    "        self.upconv = nn.ConvTranspose2d(in_channels, out_channels, kernel_size=2, stride=2)\n",
    "        self.conv_block = ConvBlock(out_channels + skip_channels, out_channels)\n",
    "\n",
    "    def forward(self, x, skip_features):\n",
    "        x = self.upconv(x)\n",
    "        x = torch.cat([x, skip_features], dim=1)\n",
    "        x = self.conv_block(x)\n",
    "        return x\n",
    "\n",
    "class DecoderArm(nn.Module):\n",
    "    def __init__(self, base_channels, skip_channels_list):\n",
    "        super(DecoderArm, self).__init__()\n",
    "        self.d0 = DecoderBlock(base_channels, skip_channels_list[4], 1024)\n",
    "        self.d1 = DecoderBlock(1024, skip_channels_list[3], 512)\n",
    "        self.d2 = DecoderBlock(512, skip_channels_list[2], 256)\n",
    "        self.d3 = DecoderBlock(256, skip_channels_list[1], 128)\n",
    "        self.d4 = DecoderBlock(128, skip_channels_list[0], 64)\n",
    "        self.final_conv = nn.Conv2d(64, 1, kernel_size=1)\n",
    "        self.sigmoid = nn.Sigmoid()\n",
    "\n",
    "    def forward(self, base, skip_connection):        \n",
    "        d0 = self.d0(base, skip_connection[4])\n",
    "        d1 = self.d1(d0, skip_connection[3])\n",
    "        d2 = self.d2(d1, skip_connection[2])\n",
    "        d3 = self.d3(d2, skip_connection[1])\n",
    "        d4 = self.d4(d3, skip_connection[0])\n",
    "        mask_outputs = self.sigmoid(self.final_conv(d4))\n",
    "        return mask_outputs"
   ]
  },
  {
   "cell_type": "code",
   "execution_count": 33,
   "metadata": {},
   "outputs": [],
   "source": [
    "class FullyConnectedBlock(nn.Module):\n",
    "    def __init__(self, input_features, num_classes):\n",
    "        super(FullyConnectedBlock, self).__init__()\n",
    "        self.batch_norm1 = nn.BatchNorm1d(input_features)\n",
    "        self.dense1 = nn.Linear(input_features, 4096)\n",
    "        self.dropout1 = nn.Dropout(0.5)\n",
    "        self.batch_norm2 = nn.BatchNorm1d(4096)\n",
    "        self.dense2 = nn.Linear(4096, 4096)\n",
    "        self.dropout2 = nn.Dropout(0.5)\n",
    "        self.batch_norm3 = nn.BatchNorm1d(4096)\n",
    "        self.dense3 = nn.Linear(4096, num_classes)\n",
    "        self.num_classes = num_classes\n",
    "\n",
    "    def forward(self, x):        \n",
    "        x = self.batch_norm1(x)\n",
    "        x = F.relu(self.dense1(x))\n",
    "        x = self.dropout1(x)\n",
    "        x = self.batch_norm2(x)\n",
    "        x = F.relu(self.dense2(x))\n",
    "        x = self.dropout2(x)\n",
    "        x = self.batch_norm3(x)\n",
    "        if self.num_classes == 2:\n",
    "            return torch.sigmoid(self.dense3(x))\n",
    "        else:\n",
    "            return F.log_softmax(self.dense3(x), dim=1)\n",
    "\n",
    "class ClassificationTail(nn.Module):\n",
    "    def __init__(self, input_features, num_classes):\n",
    "        super(ClassificationTail, self).__init__()\n",
    "        self.fc_block = FullyConnectedBlock(input_features, num_classes)\n",
    "\n",
    "    def forward(self, x):\n",
    "        return self.fc_block(x)"
   ]
  },
  {
   "cell_type": "code",
   "execution_count": 34,
   "metadata": {},
   "outputs": [],
   "source": [
    "def jaccard_coef(y_true, y_pred):\n",
    "    \"\"\"\n",
    "    Calculate the Jaccard coefficient between predictions and ground truth.\n",
    "    \n",
    "    Parameters:\n",
    "    - y_true: the ground truth tensor.\n",
    "    - y_pred: the predicted tensor.\n",
    "    \n",
    "    Both tensors should have the same shape.\n",
    "    \n",
    "    Returns:\n",
    "    - Jaccard coefficient as a float.\n",
    "    \"\"\"\n",
    "    # Flatten the tensors to simplify the intersection and union calculation\n",
    "    y_true_f = torch.flatten(y_true)\n",
    "    y_pred_f = torch.flatten(y_pred)\n",
    "    \n",
    "    # Calculate the intersection and union\n",
    "    intersection = torch.sum(y_true_f * y_pred_f)\n",
    "    union = torch.sum(y_true_f) + torch.sum(y_pred_f) - intersection\n",
    "    \n",
    "    # Calculate the Jaccard index (IoU)\n",
    "    iou = (intersection + 1.0) / (union + 1.0)\n",
    "    return iou\n",
    "\n",
    "def jaccard_coef_loss(y_true, y_pred):\n",
    "    \"\"\"\n",
    "    Compute the Jaccard loss, which is 1 minus the Jaccard coefficient.\n",
    "    \n",
    "    Parameters:\n",
    "    - y_true: the ground truth tensor.\n",
    "    - y_pred: the predicted tensor.\n",
    "    \n",
    "    Both tensors should have the same shape.\n",
    "    \n",
    "    Returns:\n",
    "    - Jaccard loss as a float.\n",
    "    \"\"\"\n",
    "    return -jaccard_coef(y_true, y_pred)"
   ]
  },
  {
   "cell_type": "code",
   "execution_count": 35,
   "metadata": {},
   "outputs": [],
   "source": [
    "class CombinedModel(nn.Module):\n",
    "    def __init__(self, encoder, decoder, classifier):\n",
    "        super(CombinedModel, self).__init__()\n",
    "        self.encoder = encoder\n",
    "        self.decoder = decoder\n",
    "        self.classifier = classifier\n",
    "\n",
    "    def forward(self, x):\n",
    "        skips, bottleneck = self.encoder(x)\n",
    "        segmentation_output = self.decoder(bottleneck, skips)\n",
    "        \n",
    "        bottleneck_cpy = bottleneck.clone().view(bottleneck.shape[0],-1)\n",
    "        classification_output = self.classifier(bottleneck_cpy)\n",
    "        return segmentation_output, classification_output"
   ]
  },
  {
   "cell_type": "code",
   "execution_count": 36,
   "metadata": {},
   "outputs": [],
   "source": [
    "# Model instantiation\n",
    "encoder = EncoderArm(3)\n",
    "decoder = DecoderArm(1024,[64,128,256,512,1024])\n",
    "classifier = ClassificationTail(1024*4*4,len(img_dataset.class_to_idx))\n",
    "\n",
    "\n",
    "model = CombinedModel(encoder, decoder, classifier).to(device)\n",
    "\n",
    "# Loss functions\n",
    "segmentation_loss_fn = jaccard_coef_loss\n",
    "classification_loss_fn = nn.CrossEntropyLoss()  # or nn.BCEWithLogitsLoss for binary classification\n",
    "\n",
    "# Optimizer\n",
    "optimizer = optim.Adam(model.parameters(), lr=1e-4)"
   ]
  },
  {
   "cell_type": "code",
   "execution_count": 37,
   "metadata": {},
   "outputs": [
    {
     "data": {
      "text/plain": [
       "<__main__.PairedImageDataset at 0x7fd9e014d000>"
      ]
     },
     "execution_count": 37,
     "metadata": {},
     "output_type": "execute_result"
    }
   ],
   "source": [
    "img_dataset"
   ]
  },
  {
   "cell_type": "code",
   "execution_count": 38,
   "metadata": {},
   "outputs": [],
   "source": [
    "img_dataset = img_dataset\n",
    "\n",
    "train_len = int(len(img_dataset) * 0.8)\n",
    "test_len = int(len(img_dataset) - train_len)\n",
    "\n",
    "train_img_dataset,test_img_dataset = torch.utils.data.random_split(img_dataset,[train_len,test_len])\n",
    "\n",
    "train_dataloader = DataLoader(train_img_dataset,batch_size=16)\n",
    "test_dataloader = DataLoader(test_img_dataset,batch_size=16)"
   ]
  },
  {
   "cell_type": "code",
   "execution_count": 39,
   "metadata": {},
   "outputs": [],
   "source": [
    "sample_input = torch.randn(1,3,128,128).to(device)\n",
    "writer.add_graph(model, sample_input)"
   ]
  },
  {
   "cell_type": "code",
   "execution_count": 40,
   "metadata": {},
   "outputs": [
    {
     "name": "stderr",
     "output_type": "stream",
     "text": [
      "/tmp/ipykernel_239954/3933350191.py:6: TqdmDeprecationWarning: This function will be removed in tqdm==5.0.0\n",
      "Please use `tqdm.notebook.tqdm` instead of `tqdm.tqdm_notebook`\n",
      "  for batch_idx, batch in tqdm_notebook(enumerate(train_dataloader),total=len(train_img_dataset)/16):\n"
     ]
    },
    {
     "data": {
      "application/vnd.jupyter.widget-view+json": {
       "model_id": "92d6c677f4534b9a984debf76accc1b8",
       "version_major": 2,
       "version_minor": 0
      },
      "text/plain": [
       "  0%|          | 0/450.0 [00:00<?, ?it/s]"
      ]
     },
     "metadata": {},
     "output_type": "display_data"
    },
    {
     "name": "stdout",
     "output_type": "stream",
     "text": [
      "Epoch 1, Total Loss: 0.0\n"
     ]
    },
    {
     "data": {
      "application/vnd.jupyter.widget-view+json": {
       "model_id": "93a9d9af3973483c9eab0614ef8381b4",
       "version_major": 2,
       "version_minor": 0
      },
      "text/plain": [
       "  0%|          | 0/450.0 [00:00<?, ?it/s]"
      ]
     },
     "metadata": {},
     "output_type": "display_data"
    },
    {
     "name": "stdout",
     "output_type": "stream",
     "text": [
      "Epoch 2, Total Loss: -1.0\n"
     ]
    },
    {
     "data": {
      "application/vnd.jupyter.widget-view+json": {
       "model_id": "7c26e412434a4ac99c5b0771b41fcf45",
       "version_major": 2,
       "version_minor": 0
      },
      "text/plain": [
       "  0%|          | 0/450.0 [00:00<?, ?it/s]"
      ]
     },
     "metadata": {},
     "output_type": "display_data"
    },
    {
     "name": "stdout",
     "output_type": "stream",
     "text": [
      "Epoch 3, Total Loss: -1.0\n"
     ]
    },
    {
     "data": {
      "application/vnd.jupyter.widget-view+json": {
       "model_id": "8ecb1f3bdc884a2ebb066e7bee5badd1",
       "version_major": 2,
       "version_minor": 0
      },
      "text/plain": [
       "  0%|          | 0/450.0 [00:00<?, ?it/s]"
      ]
     },
     "metadata": {},
     "output_type": "display_data"
    },
    {
     "name": "stdout",
     "output_type": "stream",
     "text": [
      "Epoch 4, Total Loss: -1.0\n"
     ]
    },
    {
     "data": {
      "application/vnd.jupyter.widget-view+json": {
       "model_id": "f9103127c52f43519c0db6e3a123ef3d",
       "version_major": 2,
       "version_minor": 0
      },
      "text/plain": [
       "  0%|          | 0/450.0 [00:00<?, ?it/s]"
      ]
     },
     "metadata": {},
     "output_type": "display_data"
    },
    {
     "name": "stdout",
     "output_type": "stream",
     "text": [
      "Epoch 5, Total Loss: -1.0\n"
     ]
    },
    {
     "data": {
      "application/vnd.jupyter.widget-view+json": {
       "model_id": "91baa63324964e069f5e34fe413b8824",
       "version_major": 2,
       "version_minor": 0
      },
      "text/plain": [
       "  0%|          | 0/450.0 [00:00<?, ?it/s]"
      ]
     },
     "metadata": {},
     "output_type": "display_data"
    },
    {
     "name": "stdout",
     "output_type": "stream",
     "text": [
      "Epoch 6, Total Loss: -1.0\n"
     ]
    },
    {
     "data": {
      "application/vnd.jupyter.widget-view+json": {
       "model_id": "1c1c225e89e946cbbf07e984e32b9623",
       "version_major": 2,
       "version_minor": 0
      },
      "text/plain": [
       "  0%|          | 0/450.0 [00:00<?, ?it/s]"
      ]
     },
     "metadata": {},
     "output_type": "display_data"
    },
    {
     "name": "stdout",
     "output_type": "stream",
     "text": [
      "Epoch 7, Total Loss: -1.0\n"
     ]
    },
    {
     "data": {
      "application/vnd.jupyter.widget-view+json": {
       "model_id": "52100dd87a6a4aad88f5561aa6af90a4",
       "version_major": 2,
       "version_minor": 0
      },
      "text/plain": [
       "  0%|          | 0/450.0 [00:00<?, ?it/s]"
      ]
     },
     "metadata": {},
     "output_type": "display_data"
    },
    {
     "name": "stdout",
     "output_type": "stream",
     "text": [
      "Epoch 8, Total Loss: -1.0\n"
     ]
    },
    {
     "data": {
      "application/vnd.jupyter.widget-view+json": {
       "model_id": "9105cd569ca747d59de8538caf4afe99",
       "version_major": 2,
       "version_minor": 0
      },
      "text/plain": [
       "  0%|          | 0/450.0 [00:00<?, ?it/s]"
      ]
     },
     "metadata": {},
     "output_type": "display_data"
    },
    {
     "name": "stdout",
     "output_type": "stream",
     "text": [
      "Epoch 9, Total Loss: -1.0\n"
     ]
    },
    {
     "data": {
      "application/vnd.jupyter.widget-view+json": {
       "model_id": "1c9822a8736a401c85e988d1285cf6e7",
       "version_major": 2,
       "version_minor": 0
      },
      "text/plain": [
       "  0%|          | 0/450.0 [00:00<?, ?it/s]"
      ]
     },
     "metadata": {},
     "output_type": "display_data"
    },
    {
     "name": "stdout",
     "output_type": "stream",
     "text": [
      "Epoch 10, Total Loss: -1.0\n"
     ]
    }
   ],
   "source": [
    "num_epochs = 10\n",
    "for epoch in range(num_epochs):\n",
    "    model.train()\n",
    "    total_loss = 0\n",
    "    \n",
    "    for batch_idx, batch in tqdm_notebook(enumerate(train_dataloader),total=len(train_img_dataset)/16):\n",
    "        inputs, segmentation_targets, classification_targets = batch  # Adjust based on your dataset\n",
    "        \n",
    "        # Forward pass\n",
    "        segmentation_output, classification_output = model(inputs)\n",
    "        \n",
    "        # Calculate losses\n",
    "        segmentation_loss = segmentation_loss_fn(segmentation_output, segmentation_targets)\n",
    "        classification_loss = classification_loss_fn(classification_output, classification_targets)\n",
    "        \n",
    "        # Combine losses\n",
    "        loss = segmentation_loss + classification_loss\n",
    "        \n",
    "        # Backpropagation\n",
    "        optimizer.zero_grad()\n",
    "        loss.backward()\n",
    "        optimizer.step()\n",
    "        \n",
    "        batch_loss = loss.item()\n",
    "        total_loss += batch_loss\n",
    "\n",
    "        # Log loss for each batch\n",
    "        writer.add_scalar('Loss/Batch', batch_loss, epoch * len(train_dataloader) + batch_idx)\n",
    "        writer.add_scalar('Loss/Segmentation loss', segmentation_loss, epoch * len(train_dataloader) + batch_idx)\n",
    "        writer.add_scalar('Loss/classification loss', classification_loss, epoch * len(train_dataloader) + batch_idx)\n",
    "    \n",
    "    # Calculate average loss for the epoch\n",
    "    epoch_loss = total_loss // len(train_dataloader)\n",
    "    print(f\"Epoch {epoch+1}, Total Loss: {epoch_loss}\")\n",
    "    \n",
    "    # Log loss for each epoch\n",
    "    writer.add_scalar('Loss/Epoch', epoch_loss, epoch)\n",
    "    \n",
    "    # Log a sample from the test dataset (assuming you have a test_dataloader)\n",
    "    with torch.no_grad():\n",
    "        model.eval()\n",
    "        test_inputs, test_segmentation_targets, _ = next(iter(test_dataloader))\n",
    "        test_segmentation_output, test_classification_output = model(test_inputs)\n",
    "\n",
    "        # Select a sample and its predictions for visualization\n",
    "        test_images_grid = make_grid(test_inputs[:4], nrow=4)     \n",
    "        test_segmentation_grid = make_grid(test_segmentation_targets[:4], nrow=4)  # No need to unsqueeze as it's already [batch, channel, H, W]\n",
    "        predicted_segmentation_grid = make_grid(test_segmentation_output[:4], nrow=4)  # Convert predictions to single-channel masks, keeping the shape consistent\n",
    "\n",
    "        # Log the images\n",
    "        writer.add_image('Test/Sample Images', test_images_grid, epoch)\n",
    "        writer.add_image('Test/True Segmentations', test_segmentation_grid, epoch)\n",
    "        writer.add_image('Test/Predicted Segmentations', predicted_segmentation_grid, epoch)\n",
    "\n",
    "        # Assuming classification targets are binary/multiclass, you can log predictions as histograms or texts\n",
    "        # For demonstration, logging the predicted classes (assuming binary classification for simplicity)\n",
    "        predicted_classes = torch.sigmoid(test_classification_output[:4]) > 0.5  # Threshold for binary classification\n",
    "        writer.add_histogram('Test/Predicted Classes', predicted_classes.float(), epoch)\n",
    "\n",
    "# Don't forget to close the writer when you're done\n",
    "writer.close()"
   ]
  }
 ],
 "metadata": {
  "kernelspec": {
   "display_name": "Python 3 (ipykernel)",
   "language": "python",
   "name": "python3"
  },
  "language_info": {
   "codemirror_mode": {
    "name": "ipython",
    "version": 3
   },
   "file_extension": ".py",
   "mimetype": "text/x-python",
   "name": "python",
   "nbconvert_exporter": "python",
   "pygments_lexer": "ipython3",
   "version": "3.10.12"
  },
  "nteract": {
   "version": "nteract-on-jupyter@2.1.3"
  }
 },
 "nbformat": 4,
 "nbformat_minor": 4
}
